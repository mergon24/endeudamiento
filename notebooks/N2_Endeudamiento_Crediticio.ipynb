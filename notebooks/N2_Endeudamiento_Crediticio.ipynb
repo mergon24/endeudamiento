{
 "cells": [
  {
   "cell_type": "markdown",
   "metadata": {
    "id": "24chAUOv40Or"
   },
   "source": [
    "# **Scripts del Proyecto**"
   ]
  },
  {
   "cell_type": "code",
   "execution_count": 158,
   "metadata": {
    "id": "0mT3m3Q4hlNB"
   },
   "outputs": [],
   "source": [
    "#IMPORTAR LIBRERIAS\n",
    "import numpy as np\n",
    "import pandas as pd"
   ]
  },
  {
   "cell_type": "code",
   "execution_count": 159,
   "metadata": {
    "id": "QPk1fEoQjzwb"
   },
   "outputs": [],
   "source": [
    "#CARGAR BASE DE DATOS\n",
    "df_creditos=pd.read_csv(\"../data/raw/2_DS_creditos.csv\",sep = \";\",encoding = 'latin1')"
   ]
  },
  {
   "cell_type": "code",
   "execution_count": 160,
   "metadata": {},
   "outputs": [
    {
     "name": "stdout",
     "output_type": "stream",
     "text": [
      "Index(['ID', 'Default', 'Prct_uso_tc', 'Edad', 'Nro_prestao_retrasados',\n",
      "       'Prct_deuda_vs_ingresos', 'Mto_ingreso_mensual',\n",
      "       'Nro_prod_financieros_deuda', 'Nro_retraso_60dias',\n",
      "       'Nro_creditos_hipotecarios', 'Nro_retraso_ultm3anios',\n",
      "       'Nro_dependiente'],\n",
      "      dtype='object')\n"
     ]
    }
   ],
   "source": [
    "print(df_creditos.columns)"
   ]
  },
  {
   "cell_type": "code",
   "execution_count": 161,
   "metadata": {
    "id": "ZPVEVWtAnHEW"
   },
   "outputs": [],
   "source": [
    "#REEMPLAZAR LOS VALORES NULOS CON 0 DE LA COLUMNA 'Nro_dependiente'\n",
    "df_isnull2 = df_creditos['Nro_dependiente'].fillna(0)\n",
    "df_creditos['Nro_dependiente'] = df_isnull2"
   ]
  },
  {
   "cell_type": "code",
   "execution_count": 162,
   "metadata": {},
   "outputs": [
    {
     "name": "stdout",
     "output_type": "stream",
     "text": [
      "Index(['ID', 'Default', 'Prct_uso_tc', 'Edad', 'Nro_prestao_retrasados',\n",
      "       'Prct_deuda_vs_ingresos', 'Mto_ingreso_mensual',\n",
      "       'Nro_prod_financieros_deuda', 'Nro_retraso_60dias',\n",
      "       'Nro_creditos_hipotecarios', 'Nro_retraso_ultm3anios',\n",
      "       'Nro_dependiente'],\n",
      "      dtype='object')\n"
     ]
    }
   ],
   "source": [
    "print(df_creditos.columns) "
   ]
  },
  {
   "cell_type": "code",
   "execution_count": 163,
   "metadata": {
    "id": "LHAeSUfFE90I"
   },
   "outputs": [],
   "source": [
    "#APLICAR OUTLIER CAPPING\n",
    "def outlier_capping(x):\n",
    "    x = x.clip(upper=x.quantile(0.95))\n",
    "\n",
    "    return(x)"
   ]
  },
  {
   "cell_type": "code",
   "execution_count": 164,
   "metadata": {
    "id": "qCr4VZ6uGHq8"
   },
   "outputs": [],
   "source": [
    "#REEMPLAZAR LOS VALORES ATÍPICOS CON LA VARIABLE X DEFINIDA\n",
    "df_creditos_tratamiento = df_creditos[['Prct_uso_tc']].apply(lambda x: outlier_capping(x))"
   ]
  },
  {
   "cell_type": "code",
   "execution_count": 165,
   "metadata": {
    "id": "jXHJn-XwIKnc"
   },
   "outputs": [],
   "source": [
    "#ELIMINAR Y UNIR LOS VALORES GENERADOS DE LA COLUMNA 'Prct_uso_tc'\n",
    "df_creditos = pd.concat([df_creditos.drop(columns=['Prct_uso_tc']), df_creditos_tratamiento], axis=1,)"
   ]
  },
  {
   "cell_type": "code",
   "execution_count": 166,
   "metadata": {
    "id": "OQ4qWM1ZyYrn"
   },
   "outputs": [],
   "source": [
    "#REEMPLAZAR LOS VALORES ATÍPICOS CON LA VARIABLE X DEFINIDA\n",
    "df_creditos_tratamiento2 = df_creditos[['Prct_deuda_vs_ingresos']].apply(lambda y: outlier_capping(y))"
   ]
  },
  {
   "cell_type": "code",
   "execution_count": 167,
   "metadata": {
    "id": "dOfGzWoiyjr1"
   },
   "outputs": [],
   "source": [
    "#ELIMINAR Y UNIR LOS VALORES GENERADOS DE LA COLUMNA 'Prct_deuda_vs_ingresos'\n",
    "df_creditos = pd.concat([df_creditos.drop(columns=['Prct_deuda_vs_ingresos']), df_creditos_tratamiento2], axis=1,)"
   ]
  },
  {
   "cell_type": "code",
   "execution_count": 168,
   "metadata": {
    "id": "VDZpgxenb86k"
   },
   "outputs": [],
   "source": [
    "#REEMPLAZAR LOS VALORES ATÍPICOS CON LA VARIABLE X DEFINIDA\n",
    "df_creditos_tratamiento3 = df_creditos[['Mto_ingreso_mensual']].apply(lambda z: outlier_capping(z))"
   ]
  },
  {
   "cell_type": "code",
   "execution_count": 169,
   "metadata": {
    "id": "tbGFmXyGcHQr"
   },
   "outputs": [],
   "source": [
    "#ELIMINAR Y UNIR LOS VALORES GENERADOS DE LA COLUMNA 'Prct_deuda_vs_ingresos'\n",
    "df_creditos = pd.concat([df_creditos.drop(columns=['Mto_ingreso_mensual']), df_creditos_tratamiento3], axis=1,)"
   ]
  },
  {
   "cell_type": "code",
   "execution_count": 170,
   "metadata": {
    "id": "tt0lnXtgXbUB"
   },
   "outputs": [],
   "source": [
    "#REEMPLAZAR LOS VALORES ATÍPICOS CON LA VARIABLE X DEFINIDA\n",
    "df_creditos_tratamiento4 = df_creditos[['Nro_prestao_retrasados']].apply(lambda a: outlier_capping(a))"
   ]
  },
  {
   "cell_type": "code",
   "execution_count": 171,
   "metadata": {
    "id": "APKvLbq7XgUQ"
   },
   "outputs": [],
   "source": [
    "#ELIMINAR Y UNIR LOS VALORES GENERADOS DE LA COLUMNA 'Nro_prestao_retrasados'\n",
    "df_creditos = pd.concat([df_creditos.drop(columns=['Nro_prestao_retrasados']), df_creditos_tratamiento4], axis=1,)"
   ]
  },
  {
   "cell_type": "code",
   "execution_count": 172,
   "metadata": {
    "id": "EmTtdobQYNk7"
   },
   "outputs": [],
   "source": [
    "#REEMPLAZAR LOS VALORES ATÍPICOS CON LA VARIABLE X DEFINIDA\n",
    "df_creditos_tratamiento5 = df_creditos[['Nro_retraso_60dias']].apply(lambda b: outlier_capping(b))"
   ]
  },
  {
   "cell_type": "code",
   "execution_count": 173,
   "metadata": {
    "id": "_jFdpE8gYdR4"
   },
   "outputs": [],
   "source": [
    "#ELIMINAR Y UNIR LOS VALORES GENERADOS DE LA COLUMNA 'Nro_prestao_retrasados'\n",
    "df_creditos = pd.concat([df_creditos.drop(columns=['Nro_retraso_60dias']), df_creditos_tratamiento5], axis=1,)"
   ]
  },
  {
   "cell_type": "code",
   "execution_count": 174,
   "metadata": {
    "id": "l24Sjhx-YwM4"
   },
   "outputs": [],
   "source": [
    "#REEMPLAZAR LOS VALORES ATÍPICOS CON LA VARIABLE X DEFINIDA\n",
    "df_creditos_tratamiento6 = df_creditos[['Nro_creditos_hipotecarios']].apply(lambda c: outlier_capping(c))"
   ]
  },
  {
   "cell_type": "code",
   "execution_count": 175,
   "metadata": {
    "id": "VtV7V-RzY0Bc"
   },
   "outputs": [],
   "source": [
    "#ELIMINAR Y UNIR LOS VALORES GENERADOS DE LA COLUMNA 'Nro_prestao_retrasados'\n",
    "df_creditos = pd.concat([df_creditos.drop(columns=['Nro_creditos_hipotecarios']), df_creditos_tratamiento6], axis=1,)"
   ]
  },
  {
   "cell_type": "code",
   "execution_count": 176,
   "metadata": {
    "id": "PDjlUvtgZDmP"
   },
   "outputs": [],
   "source": [
    "#REEMPLAZAR LOS VALORES ATÍPICOS CON LA VARIABLE X DEFINIDA\n",
    "df_creditos_tratamiento7 = df_creditos[['Nro_retraso_ultm3anios']].apply(lambda d: outlier_capping(d))"
   ]
  },
  {
   "cell_type": "code",
   "execution_count": 177,
   "metadata": {
    "id": "wwxr8bL4ZHa1"
   },
   "outputs": [],
   "source": [
    "#ELIMINAR Y UNIR LOS VALORES GENERADOS DE LA COLUMNA 'Nro_prestao_retrasados'\n",
    "df_creditos = pd.concat([df_creditos.drop(columns=['Nro_retraso_ultm3anios']), df_creditos_tratamiento7], axis=1,)"
   ]
  },
  {
   "cell_type": "code",
   "execution_count": 178,
   "metadata": {},
   "outputs": [
    {
     "data": {
      "text/plain": [
       "ID                                0\n",
       "Default                           0\n",
       "Edad                              0\n",
       "Nro_prod_financieros_deuda        0\n",
       "Nro_dependiente                   0\n",
       "Prct_uso_tc                       0\n",
       "Prct_deuda_vs_ingresos            0\n",
       "Mto_ingreso_mensual           29731\n",
       "Nro_prestao_retrasados            0\n",
       "Nro_retraso_60dias                0\n",
       "Nro_creditos_hipotecarios         0\n",
       "Nro_retraso_ultm3anios            0\n",
       "dtype: int64"
      ]
     },
     "execution_count": 178,
     "metadata": {},
     "output_type": "execute_result"
    }
   ],
   "source": [
    "#CUANTIFICAR LOS VALORES NULOS\n",
    "df_creditos.isna().sum()"
   ]
  },
  {
   "cell_type": "markdown",
   "metadata": {
    "id": "yWPzKCbPUIFQ"
   },
   "source": [
    "# **4. Tratamiento de valores nulos y 0s - Parte 2**"
   ]
  },
  {
   "cell_type": "code",
   "execution_count": 179,
   "metadata": {
    "id": "GJUOEA9JNIFA"
   },
   "outputs": [],
   "source": [
    "#ARREGLO DE LOS VALORES EN 0 DE LA COLUMNA 'Mto_ingreso_mensual'\n",
    "def monto_fix(monto):\n",
    "    if monto==0:\n",
    "        return None\n",
    "    return monto\n",
    "\n",
    "df_creditos['Mto_ingreso_mensual']=df_creditos.apply(lambda x: monto_fix(x['Mto_ingreso_mensual']), axis=1);"
   ]
  },
  {
   "cell_type": "code",
   "execution_count": 180,
   "metadata": {},
   "outputs": [
    {
     "data": {
      "text/plain": [
       "ID                                0\n",
       "Default                           0\n",
       "Edad                              0\n",
       "Nro_prod_financieros_deuda        0\n",
       "Nro_dependiente                   0\n",
       "Prct_uso_tc                       0\n",
       "Prct_deuda_vs_ingresos            0\n",
       "Mto_ingreso_mensual           31365\n",
       "Nro_prestao_retrasados            0\n",
       "Nro_retraso_60dias                0\n",
       "Nro_creditos_hipotecarios         0\n",
       "Nro_retraso_ultm3anios            0\n",
       "dtype: int64"
      ]
     },
     "execution_count": 180,
     "metadata": {},
     "output_type": "execute_result"
    }
   ],
   "source": [
    "#CUANTIFICAR LOS VALORES NULOS\n",
    "df_creditos.isna().sum()"
   ]
  },
  {
   "cell_type": "code",
   "execution_count": 181,
   "metadata": {
    "colab": {
     "base_uri": "https://localhost:8080/"
    },
    "id": "1MmG-RAyHr5R",
    "outputId": "4f66b18a-b397-4da4-a128-6039b36d3264"
   },
   "outputs": [
    {
     "name": "stdout",
     "output_type": "stream",
     "text": [
      "Monto Promedio: 6199.5918017448475\n",
      "Desvió Std Monto: 3599.2582885068264\n",
      "Intervalo para asignar monto aleatoria: 2600 a 9798\n"
     ]
    }
   ],
   "source": [
    "#HALLAR EL PROMEDIO Y DESVIACIÓN ESTÁNDAR PARA DEFINIR EL INTERVALO DE CONFIANZA\n",
    "age_avg = df_creditos['Mto_ingreso_mensual'].mean()\n",
    "age_std = df_creditos['Mto_ingreso_mensual'].std()\n",
    "age_null_count = df_creditos['Mto_ingreso_mensual'].isnull().sum()\n",
    "age_null_random_list = np.random.randint(age_avg - age_std, age_avg + age_std, size=age_null_count)\n",
    "\n",
    "conValoresNulos = np.isnan(df_creditos['Mto_ingreso_mensual'])\n",
    "\n",
    "df_creditos.loc[np.isnan(df_creditos['Mto_ingreso_mensual']), 'Mto_ingreso_mensual'] = age_null_random_list\n",
    "df_creditos['Mto_ingreso_mensual'] = df_creditos['Mto_ingreso_mensual'].astype(int)\n",
    "print(\"Monto Promedio: \" + str(age_avg))\n",
    "print(\"Desvió Std Monto: \" + str(age_std))\n",
    "print(\"Intervalo para asignar monto aleatoria: \" + str(int(age_avg - age_std)) + \" a \" + str(int(age_avg + age_std)))"
   ]
  },
  {
   "cell_type": "code",
   "execution_count": 182,
   "metadata": {},
   "outputs": [
    {
     "data": {
      "text/plain": [
       "ID                            0\n",
       "Default                       0\n",
       "Edad                          0\n",
       "Nro_prod_financieros_deuda    0\n",
       "Nro_dependiente               0\n",
       "Prct_uso_tc                   0\n",
       "Prct_deuda_vs_ingresos        0\n",
       "Mto_ingreso_mensual           0\n",
       "Nro_prestao_retrasados        0\n",
       "Nro_retraso_60dias            0\n",
       "Nro_creditos_hipotecarios     0\n",
       "Nro_retraso_ultm3anios        0\n",
       "dtype: int64"
      ]
     },
     "execution_count": 182,
     "metadata": {},
     "output_type": "execute_result"
    }
   ],
   "source": [
    "#CUANTIFICAR LOS VALORES NULOS\n",
    "df_creditos.isna().sum()"
   ]
  },
  {
   "cell_type": "markdown",
   "metadata": {
    "id": "LbpCTTohboyr"
   },
   "source": [
    "# **5. Agrupación por rangos para aplicación de Machine Learning**"
   ]
  },
  {
   "cell_type": "code",
   "execution_count": 132,
   "metadata": {
    "id": "pZOdIEItLM13"
   },
   "outputs": [],
   "source": [
    "# MAPPING 'Edad' DE LOS CLIENTES\n",
    "df_creditos.loc[ df_creditos['Edad'] <= 24, 'EdadEncoded'] = 0\n",
    "df_creditos.loc[(df_creditos['Edad'] > 24) & (df_creditos['Edad'] <= 40), 'EdadEncoded'] = 1\n",
    "df_creditos.loc[(df_creditos['Edad'] > 40) & (df_creditos['Edad'] <= 60), 'EdadEncoded'] = 2\n",
    "df_creditos.loc[(df_creditos['Edad'] > 60) & (df_creditos['Edad'] <= 80), 'EdadEncoded'] = 3\n",
    "df_creditos.loc[ df_creditos['Edad'] > 80, 'EdadEncoded'] = 4"
   ]
  },
  {
   "cell_type": "code",
   "execution_count": 133,
   "metadata": {
    "id": "Qlp-jX0uN86N"
   },
   "outputs": [],
   "source": [
    "# MAPPING 'Nro_prestao_retrasados' DE LOS CLIENTES\n",
    "df_creditos.loc[ df_creditos['Nro_prestao_retrasados'] <= 0, 'RetrasosEncoded'] = 0\n",
    "df_creditos.loc[(df_creditos['Nro_prestao_retrasados'] > 0) & (df_creditos['Nro_prestao_retrasados'] <= 2), 'RetrasosEncoded'] = 1\n",
    "df_creditos.loc[(df_creditos['Nro_prestao_retrasados'] > 2) & (df_creditos['Nro_prestao_retrasados'] <= 5), 'RetrasosEncoded'] = 2\n",
    "df_creditos.loc[(df_creditos['Nro_prestao_retrasados'] > 5) & (df_creditos['Nro_prestao_retrasados'] <= 8), 'RetrasosEncoded'] = 3\n",
    "df_creditos.loc[(df_creditos['Nro_prestao_retrasados'] > 8) & (df_creditos['Nro_prestao_retrasados'] <= 13), 'RetrasosEncoded'] = 4\n",
    "df_creditos.loc[ df_creditos['Nro_prestao_retrasados'] > 13, 'RetrasosEncoded'] = 5"
   ]
  },
  {
   "cell_type": "code",
   "execution_count": 134,
   "metadata": {
    "id": "T9T51FTVPDzQ"
   },
   "outputs": [],
   "source": [
    "# MAPPING 'Nro_prod_financieros_deuda' DE LOS CLIENTES\n",
    "df_creditos.loc[ df_creditos['Nro_prod_financieros_deuda'] <= 0, 'FinancierosEncoded'] = 0\n",
    "df_creditos.loc[(df_creditos['Nro_prod_financieros_deuda'] > 0) & (df_creditos['Nro_prod_financieros_deuda'] <= 15), 'FinancierosEncoded'] = 1\n",
    "df_creditos.loc[(df_creditos['Nro_prod_financieros_deuda'] > 15) & (df_creditos['Nro_prod_financieros_deuda'] <= 25), 'FinancierosEncoded'] = 2\n",
    "df_creditos.loc[(df_creditos['Nro_prod_financieros_deuda'] > 25) & (df_creditos['Nro_prod_financieros_deuda'] <= 35), 'FinancierosEncoded'] = 3\n",
    "df_creditos.loc[(df_creditos['Nro_prod_financieros_deuda'] > 35) & (df_creditos['Nro_prod_financieros_deuda'] <= 45), 'FinancierosEncoded'] = 4\n",
    "df_creditos.loc[ df_creditos['Nro_prod_financieros_deuda'] > 45, 'FinancierosEncoded'] = 5"
   ]
  },
  {
   "cell_type": "code",
   "execution_count": 135,
   "metadata": {
    "id": "tePn8gk0P1tM"
   },
   "outputs": [],
   "source": [
    "# MAPPING 'Nro_retraso_60dias' DE LOS CLIENTES\n",
    "df_creditos.loc[ df_creditos['Nro_retraso_60dias'] <= 0, '60Enconded'] = 0\n",
    "df_creditos.loc[(df_creditos['Nro_retraso_60dias'] > 0) & (df_creditos['Nro_retraso_60dias'] <= 3), '60Enconded'] = 1\n",
    "df_creditos.loc[(df_creditos['Nro_retraso_60dias'] > 3) & (df_creditos['Nro_retraso_60dias'] <= 7), '60Enconded'] = 2\n",
    "df_creditos.loc[(df_creditos['Nro_retraso_60dias'] > 7) & (df_creditos['Nro_retraso_60dias'] <= 12), '60Enconded'] = 3\n",
    "df_creditos.loc[(df_creditos['Nro_retraso_60dias'] > 12) & (df_creditos['Nro_retraso_60dias'] <= 15), '60Enconded'] = 4\n",
    "df_creditos.loc[ df_creditos['Nro_retraso_60dias'] > 15, '60Enconded'] = 5"
   ]
  },
  {
   "cell_type": "code",
   "execution_count": 136,
   "metadata": {
    "id": "1fHSooC1P2MN"
   },
   "outputs": [],
   "source": [
    "# MAPPING 'Nro_creditos_hipotecarios' DE LOS CLIENTES\n",
    "df_creditos.loc[ df_creditos['Nro_creditos_hipotecarios'] <= 0, 'HipEnconded'] = 0\n",
    "df_creditos.loc[(df_creditos['Nro_creditos_hipotecarios'] > 0) & (df_creditos['Nro_creditos_hipotecarios'] <= 3), 'HipEnconded'] = 1\n",
    "df_creditos.loc[(df_creditos['Nro_creditos_hipotecarios'] > 3) & (df_creditos['Nro_creditos_hipotecarios'] <= 7), 'HipEnconded'] = 2\n",
    "df_creditos.loc[(df_creditos['Nro_creditos_hipotecarios'] > 7) & (df_creditos['Nro_creditos_hipotecarios'] <= 15), 'HipEnconded'] = 3\n",
    "df_creditos.loc[(df_creditos['Nro_creditos_hipotecarios'] > 15) & (df_creditos['Nro_creditos_hipotecarios'] <= 25), 'HipEnconded'] = 4\n",
    "df_creditos.loc[ df_creditos['Nro_creditos_hipotecarios'] > 25, 'HipEnconded'] = 5"
   ]
  },
  {
   "cell_type": "code",
   "execution_count": 137,
   "metadata": {
    "id": "PvMbbei1P2j1"
   },
   "outputs": [],
   "source": [
    "# MAPPING 'Nro_dependiente' DE LOS CLIENTES\n",
    "df_creditos.loc[ df_creditos['Nro_dependiente'] <= 0, 'DepEncoded'] = 0\n",
    "df_creditos.loc[(df_creditos['Nro_dependiente'] > 0) & (df_creditos['Nro_dependiente'] <= 2), 'DepEncoded'] = 1\n",
    "df_creditos.loc[(df_creditos['Nro_dependiente'] > 2) & (df_creditos['Nro_dependiente'] <= 5), 'DepEncoded'] = 2\n",
    "df_creditos.loc[(df_creditos['Nro_dependiente'] > 5) & (df_creditos['Nro_dependiente'] <= 10), 'DepEncoded'] = 3\n",
    "df_creditos.loc[(df_creditos['Nro_dependiente'] > 10) & (df_creditos['Nro_dependiente'] <= 13), 'DepEncoded'] = 4\n",
    "df_creditos.loc[ df_creditos['Nro_dependiente'] > 13, 'DepEncoded'] = 5"
   ]
  },
  {
   "cell_type": "code",
   "execution_count": 138,
   "metadata": {
    "id": "a7npFTdkP3Ck"
   },
   "outputs": [],
   "source": [
    "# MAPPING 'Prct_uso_tc' DE LOS CLIENTES\n",
    "df_creditos.loc[ df_creditos['Prct_uso_tc'] <= 0.1, 'TCEncoded'] = 0\n",
    "df_creditos.loc[(df_creditos['Prct_uso_tc'] > 0.1) & (df_creditos['Prct_uso_tc'] <= 0.5), 'TCEncoded'] = 1\n",
    "df_creditos.loc[(df_creditos['Prct_uso_tc'] > 0.5) & (df_creditos['Prct_uso_tc'] <= 1.0), 'TCEncoded'] = 2\n",
    "df_creditos.loc[(df_creditos['Prct_uso_tc'] > 1.0) & (df_creditos['Prct_uso_tc'] <= 1.5), 'TCEncoded'] = 3\n",
    "df_creditos.loc[(df_creditos['Prct_uso_tc'] > 1.5) & (df_creditos['Prct_uso_tc'] <= 2.0), 'TCEncoded'] = 4\n",
    "df_creditos.loc[ df_creditos['Prct_uso_tc'] > 2.0, 'TCEncoded'] = 5"
   ]
  },
  {
   "cell_type": "code",
   "execution_count": 139,
   "metadata": {
    "id": "v_ZpRp-QTJBh"
   },
   "outputs": [],
   "source": [
    "# MAPPING 'Prct_deuda_vs_ingresos' DE LOS CLIENTES\n",
    "df_creditos.loc[ df_creditos['Prct_deuda_vs_ingresos'] <= 0.1, 'DeuInEncoded'] = 0\n",
    "df_creditos.loc[(df_creditos['Prct_deuda_vs_ingresos'] > 0.1) & (df_creditos['Prct_deuda_vs_ingresos'] <= 0.5), 'DeuInEncoded'] = 1\n",
    "df_creditos.loc[(df_creditos['Prct_deuda_vs_ingresos'] > 0.5) & (df_creditos['Prct_deuda_vs_ingresos'] <= 1.0), 'DeuInEncoded'] = 2\n",
    "df_creditos.loc[(df_creditos['Prct_deuda_vs_ingresos'] > 1.0) & (df_creditos['Prct_deuda_vs_ingresos'] <= 1.5), 'DeuInEncoded'] = 3\n",
    "df_creditos.loc[(df_creditos['Prct_deuda_vs_ingresos'] > 1.5) & (df_creditos['Prct_deuda_vs_ingresos'] <= 2.0), 'DeuInEncoded'] = 4\n",
    "df_creditos.loc[ df_creditos['Prct_deuda_vs_ingresos'] > 2.0, 'DeuInEncoded'] = 5"
   ]
  },
  {
   "cell_type": "code",
   "execution_count": 140,
   "metadata": {
    "id": "qo64O-VhTg9_"
   },
   "outputs": [],
   "source": [
    "# MAPPING 'Mto_ingreso_mensual' DE LOS CLIENTES\n",
    "df_creditos.loc[ df_creditos['Mto_ingreso_mensual'] <= 1000, 'IngresoEncoded'] = 0\n",
    "df_creditos.loc[(df_creditos['Mto_ingreso_mensual'] > 1000) & (df_creditos['Mto_ingreso_mensual'] <= 3000), 'IngresoEncoded'] = 1\n",
    "df_creditos.loc[(df_creditos['Mto_ingreso_mensual'] > 3000) & (df_creditos['Mto_ingreso_mensual'] <= 5000), 'IngresoEncoded'] = 2\n",
    "df_creditos.loc[(df_creditos['Mto_ingreso_mensual'] > 5000) & (df_creditos['Mto_ingreso_mensual'] <= 8000), 'IngresoEncoded'] = 3\n",
    "df_creditos.loc[(df_creditos['Mto_ingreso_mensual'] > 8000) & (df_creditos['Mto_ingreso_mensual'] <= 14000), 'IngresoEncoded'] = 4\n",
    "df_creditos.loc[ df_creditos['Mto_ingreso_mensual'] > 14000, 'IngresoEncoded'] = 5"
   ]
  },
  {
   "cell_type": "code",
   "execution_count": 141,
   "metadata": {
    "id": "D15lbV0J2bGu"
   },
   "outputs": [],
   "source": [
    "# MAPPING 'Nro_retraso_ultm3anios' DE LOS CLIENTES\n",
    "df_creditos.loc[ df_creditos['Nro_retraso_ultm3anios'] <= 0, 'UltiEncoded'] = 0\n",
    "df_creditos.loc[(df_creditos['Nro_retraso_ultm3anios'] > 0) & (df_creditos['Nro_retraso_ultm3anios'] <= 2), 'UltiEncoded'] = 1\n",
    "df_creditos.loc[(df_creditos['Nro_retraso_ultm3anios'] > 2) & (df_creditos['Nro_retraso_ultm3anios'] <= 5), 'UltiEncoded'] = 2\n",
    "df_creditos.loc[(df_creditos['Nro_retraso_ultm3anios'] > 5) & (df_creditos['Nro_retraso_ultm3anios'] <= 8), 'UltiEncoded'] = 3\n",
    "df_creditos.loc[(df_creditos['Nro_retraso_ultm3anios'] > 8) & (df_creditos['Nro_retraso_ultm3anios'] <= 11), 'UltiEncoded'] = 4\n",
    "df_creditos.loc[ df_creditos['Nro_retraso_ultm3anios'] > 11, 'UltiEncoded'] = 5"
   ]
  },
  {
   "cell_type": "code",
   "execution_count": 142,
   "metadata": {
    "id": "SD5UEYHjUHPY"
   },
   "outputs": [],
   "source": [
    "#ELIMINAR LOS CAMPOS Y REEMPLAZAR POR LOS RANGOS DEFINIDOS\n",
    "drop_elements = ['Nro_prestao_retrasados', 'Nro_retraso_60dias', 'Nro_retraso_ultm3anios', 'Edad','Mto_ingreso_mensual','Nro_prod_financieros_deuda','Nro_creditos_hipotecarios','Nro_dependiente','Prct_uso_tc','Prct_deuda_vs_ingresos']\n",
    "creditos_encoded = df_creditos.drop(drop_elements, axis = 1)"
   ]
  },
  {
   "cell_type": "markdown",
   "metadata": {
    "id": "PVudNnnPh7zn"
   },
   "source": [
    "### Script 2: Código de entrenamiento"
   ]
  },
  {
   "cell_type": "code",
   "execution_count": 143,
   "metadata": {
    "id": "Rl_BAPAoKuB-"
   },
   "outputs": [],
   "source": [
    "import pandas as pd\n",
    "import xgboost as xgb\n",
    "import pickle\n",
    "from sklearn.ensemble import RandomForestClassifier\n"
   ]
  },
  {
   "cell_type": "code",
   "execution_count": 144,
   "metadata": {},
   "outputs": [],
   "source": [
    "# Cargar la tabla transformada\n",
    "df = pd.read_csv(\"../data/processed/creditos_train.csv\")\n",
    "X_train = df.drop(['Default'],axis=1)\n",
    "y_train = df[['Default']]"
   ]
  },
  {
   "cell_type": "code",
   "execution_count": 145,
   "metadata": {},
   "outputs": [],
   "source": [
    "#DEFINICIÓN DEL MODELO 5\n",
    "model5 = RandomForestClassifier(n_estimators=20, max_depth=8)"
   ]
  },
  {
   "cell_type": "code",
   "execution_count": 146,
   "metadata": {},
   "outputs": [
    {
     "name": "stderr",
     "output_type": "stream",
     "text": [
      "/opt/conda/lib/python3.11/site-packages/sklearn/base.py:1152: DataConversionWarning: A column-vector y was passed when a 1d array was expected. Please change the shape of y to (n_samples,), for example using ravel().\n",
      "  return fit_method(estimator, *args, **kwargs)\n"
     ]
    },
    {
     "data": {
      "text/html": [
       "<style>#sk-container-id-2 {color: black;}#sk-container-id-2 pre{padding: 0;}#sk-container-id-2 div.sk-toggleable {background-color: white;}#sk-container-id-2 label.sk-toggleable__label {cursor: pointer;display: block;width: 100%;margin-bottom: 0;padding: 0.3em;box-sizing: border-box;text-align: center;}#sk-container-id-2 label.sk-toggleable__label-arrow:before {content: \"▸\";float: left;margin-right: 0.25em;color: #696969;}#sk-container-id-2 label.sk-toggleable__label-arrow:hover:before {color: black;}#sk-container-id-2 div.sk-estimator:hover label.sk-toggleable__label-arrow:before {color: black;}#sk-container-id-2 div.sk-toggleable__content {max-height: 0;max-width: 0;overflow: hidden;text-align: left;background-color: #f0f8ff;}#sk-container-id-2 div.sk-toggleable__content pre {margin: 0.2em;color: black;border-radius: 0.25em;background-color: #f0f8ff;}#sk-container-id-2 input.sk-toggleable__control:checked~div.sk-toggleable__content {max-height: 200px;max-width: 100%;overflow: auto;}#sk-container-id-2 input.sk-toggleable__control:checked~label.sk-toggleable__label-arrow:before {content: \"▾\";}#sk-container-id-2 div.sk-estimator input.sk-toggleable__control:checked~label.sk-toggleable__label {background-color: #d4ebff;}#sk-container-id-2 div.sk-label input.sk-toggleable__control:checked~label.sk-toggleable__label {background-color: #d4ebff;}#sk-container-id-2 input.sk-hidden--visually {border: 0;clip: rect(1px 1px 1px 1px);clip: rect(1px, 1px, 1px, 1px);height: 1px;margin: -1px;overflow: hidden;padding: 0;position: absolute;width: 1px;}#sk-container-id-2 div.sk-estimator {font-family: monospace;background-color: #f0f8ff;border: 1px dotted black;border-radius: 0.25em;box-sizing: border-box;margin-bottom: 0.5em;}#sk-container-id-2 div.sk-estimator:hover {background-color: #d4ebff;}#sk-container-id-2 div.sk-parallel-item::after {content: \"\";width: 100%;border-bottom: 1px solid gray;flex-grow: 1;}#sk-container-id-2 div.sk-label:hover label.sk-toggleable__label {background-color: #d4ebff;}#sk-container-id-2 div.sk-serial::before {content: \"\";position: absolute;border-left: 1px solid gray;box-sizing: border-box;top: 0;bottom: 0;left: 50%;z-index: 0;}#sk-container-id-2 div.sk-serial {display: flex;flex-direction: column;align-items: center;background-color: white;padding-right: 0.2em;padding-left: 0.2em;position: relative;}#sk-container-id-2 div.sk-item {position: relative;z-index: 1;}#sk-container-id-2 div.sk-parallel {display: flex;align-items: stretch;justify-content: center;background-color: white;position: relative;}#sk-container-id-2 div.sk-item::before, #sk-container-id-2 div.sk-parallel-item::before {content: \"\";position: absolute;border-left: 1px solid gray;box-sizing: border-box;top: 0;bottom: 0;left: 50%;z-index: -1;}#sk-container-id-2 div.sk-parallel-item {display: flex;flex-direction: column;z-index: 1;position: relative;background-color: white;}#sk-container-id-2 div.sk-parallel-item:first-child::after {align-self: flex-end;width: 50%;}#sk-container-id-2 div.sk-parallel-item:last-child::after {align-self: flex-start;width: 50%;}#sk-container-id-2 div.sk-parallel-item:only-child::after {width: 0;}#sk-container-id-2 div.sk-dashed-wrapped {border: 1px dashed gray;margin: 0 0.4em 0.5em 0.4em;box-sizing: border-box;padding-bottom: 0.4em;background-color: white;}#sk-container-id-2 div.sk-label label {font-family: monospace;font-weight: bold;display: inline-block;line-height: 1.2em;}#sk-container-id-2 div.sk-label-container {text-align: center;}#sk-container-id-2 div.sk-container {/* jupyter's `normalize.less` sets `[hidden] { display: none; }` but bootstrap.min.css set `[hidden] { display: none !important; }` so we also need the `!important` here to be able to override the default hidden behavior on the sphinx rendered scikit-learn.org. See: https://github.com/scikit-learn/scikit-learn/issues/21755 */display: inline-block !important;position: relative;}#sk-container-id-2 div.sk-text-repr-fallback {display: none;}</style><div id=\"sk-container-id-2\" class=\"sk-top-container\"><div class=\"sk-text-repr-fallback\"><pre>RandomForestClassifier(max_depth=8, n_estimators=20)</pre><b>In a Jupyter environment, please rerun this cell to show the HTML representation or trust the notebook. <br />On GitHub, the HTML representation is unable to render, please try loading this page with nbviewer.org.</b></div><div class=\"sk-container\" hidden><div class=\"sk-item\"><div class=\"sk-estimator sk-toggleable\"><input class=\"sk-toggleable__control sk-hidden--visually\" id=\"sk-estimator-id-2\" type=\"checkbox\" checked><label for=\"sk-estimator-id-2\" class=\"sk-toggleable__label sk-toggleable__label-arrow\">RandomForestClassifier</label><div class=\"sk-toggleable__content\"><pre>RandomForestClassifier(max_depth=8, n_estimators=20)</pre></div></div></div></div></div>"
      ],
      "text/plain": [
       "RandomForestClassifier(max_depth=8, n_estimators=20)"
      ]
     },
     "execution_count": 146,
     "metadata": {},
     "output_type": "execute_result"
    }
   ],
   "source": [
    "#VISUALIZACIÓN DEL MODELO 5\n",
    "model5.fit(X_train, y_train)"
   ]
  },
  {
   "cell_type": "code",
   "execution_count": 147,
   "metadata": {},
   "outputs": [],
   "source": [
    "# Guardamos el modelo entrenado para usarlo en produccion\n",
    "filename = '../models/best_model.pkl'\n",
    "pickle.dump(model5, open(filename, 'wb'))"
   ]
  },
  {
   "cell_type": "markdown",
   "metadata": {
    "id": "PVudNnnPh7zn"
   },
   "source": [
    "### Script 3: Preparación de Datos de Validación"
   ]
  },
  {
   "cell_type": "code",
   "execution_count": 149,
   "metadata": {},
   "outputs": [],
   "source": [
    "import numpy as np\n",
    "import pandas as pd"
   ]
  },
  {
   "cell_type": "code",
   "execution_count": 152,
   "metadata": {},
   "outputs": [],
   "source": [
    "# Leemos la tabla de entrenamiento\n",
    "df_creditos = pd.read_csv(\"../data/raw/2_DS_creditos_new.csv\",sep = \";\",encoding = 'latin1')"
   ]
  },
  {
   "cell_type": "code",
   "execution_count": 153,
   "metadata": {},
   "outputs": [
    {
     "name": "stdout",
     "output_type": "stream",
     "text": [
      "Monto Promedio: 6187.929058892914\n",
      "Desvió Std Monto: 3591.3525389178317\n",
      "Intervalo para asignar monto aleatoria: 2596 a 9779\n"
     ]
    }
   ],
   "source": [
    "#REEMPLAZAR LOS VALORES NULOS CON 0 DE LA COLUMNA 'Nro_dependiente'\n",
    "df_isnull2 = df_creditos['Nro_dependiente'].fillna(0)\n",
    "df_creditos['Nro_dependiente'] = df_isnull2\n",
    "\n",
    "#APLICAR OUTLIER CAPPING\n",
    "def outlier_capping(x):\n",
    "    x = x.clip(upper=x.quantile(0.95))\n",
    "    return(x)\n",
    "\n",
    "df_creditos_tratamiento = df_creditos[['Prct_uso_tc']].apply(lambda x: outlier_capping(x))\n",
    "df_creditos = pd.concat([df_creditos.drop(columns=['Prct_uso_tc']), df_creditos_tratamiento], axis=1,)\n",
    "df_creditos_tratamiento2 = df_creditos[['Prct_deuda_vs_ingresos']].apply(lambda y: outlier_capping(y))\n",
    "df_creditos = pd.concat([df_creditos.drop(columns=['Prct_deuda_vs_ingresos']), df_creditos_tratamiento2], axis=1,)\n",
    "df_creditos_tratamiento3 = df_creditos[['Mto_ingreso_mensual']].apply(lambda z: outlier_capping(z))\n",
    "df_creditos = pd.concat([df_creditos.drop(columns=['Mto_ingreso_mensual']), df_creditos_tratamiento3], axis=1,)\n",
    "df_creditos_tratamiento4 = df_creditos[['Nro_prestao_retrasados']].apply(lambda a: outlier_capping(a))\n",
    "df_creditos = pd.concat([df_creditos.drop(columns=['Nro_prestao_retrasados']), df_creditos_tratamiento4], axis=1,)\n",
    "df_creditos_tratamiento5 = df_creditos[['Nro_retraso_60dias']].apply(lambda b: outlier_capping(b))\n",
    "df_creditos = pd.concat([df_creditos.drop(columns=['Nro_retraso_60dias']), df_creditos_tratamiento5], axis=1,)\n",
    "df_creditos_tratamiento6 = df_creditos[['Nro_creditos_hipotecarios']].apply(lambda c: outlier_capping(c))\n",
    "df_creditos = pd.concat([df_creditos.drop(columns=['Nro_creditos_hipotecarios']), df_creditos_tratamiento6], axis=1,)\n",
    "df_creditos_tratamiento7 = df_creditos[['Nro_retraso_ultm3anios']].apply(lambda d: outlier_capping(d))\n",
    "df_creditos = pd.concat([df_creditos.drop(columns=['Nro_retraso_ultm3anios']), df_creditos_tratamiento7], axis=1,)\n",
    "\n",
    "\n",
    "#ARREGLO DE LOS VALORES EN 0 DE LA COLUMNA 'Mto_ingreso_mensual'\n",
    "def monto_fix(monto):\n",
    "    if monto==0:\n",
    "        return None\n",
    "    return monto\n",
    "\n",
    "df_creditos['Mto_ingreso_mensual']=df_creditos.apply(lambda x: monto_fix(x['Mto_ingreso_mensual']), axis=1);\n",
    "\n",
    "#HALLAR EL PROMEDIO Y DESVIACIÓN ESTÁNDAR PARA DEFINIR EL INTERVALO DE CONFIANZA\n",
    "age_avg = df_creditos['Mto_ingreso_mensual'].mean()\n",
    "age_std = df_creditos['Mto_ingreso_mensual'].std()\n",
    "age_null_count = df_creditos['Mto_ingreso_mensual'].isnull().sum()\n",
    "age_null_random_list = np.random.randint(age_avg - age_std, age_avg + age_std, size=age_null_count)\n",
    "\n",
    "conValoresNulos = np.isnan(df_creditos['Mto_ingreso_mensual'])\n",
    "\n",
    "df_creditos.loc[np.isnan(df_creditos['Mto_ingreso_mensual']), 'Mto_ingreso_mensual'] = age_null_random_list\n",
    "df_creditos['Mto_ingreso_mensual'] = df_creditos['Mto_ingreso_mensual'].astype(int)\n",
    "print(\"Monto Promedio: \" + str(age_avg))\n",
    "print(\"Desvió Std Monto: \" + str(age_std))\n",
    "print(\"Intervalo para asignar monto aleatoria: \" + str(int(age_avg - age_std)) + \" a \" + str(int(age_avg + age_std)))\n",
    "\n",
    "# **5. Agrupación por rangos para aplicación de Machine Learning**\n",
    "\n",
    "# MAPPING 'Edad' DE LOS CLIENTES\n",
    "df_creditos.loc[ df_creditos['Edad'] <= 24, 'EdadEncoded'] = 0\n",
    "df_creditos.loc[(df_creditos['Edad'] > 24) & (df_creditos['Edad'] <= 40), 'EdadEncoded'] = 1\n",
    "df_creditos.loc[(df_creditos['Edad'] > 40) & (df_creditos['Edad'] <= 60), 'EdadEncoded'] = 2\n",
    "df_creditos.loc[(df_creditos['Edad'] > 60) & (df_creditos['Edad'] <= 80), 'EdadEncoded'] = 3\n",
    "df_creditos.loc[ df_creditos['Edad'] > 80, 'EdadEncoded'] = 4\n",
    "\n",
    "# MAPPING 'Nro_prestao_retrasados' DE LOS CLIENTES\n",
    "df_creditos.loc[ df_creditos['Nro_prestao_retrasados'] <= 0, 'RetrasosEncoded'] = 0\n",
    "df_creditos.loc[(df_creditos['Nro_prestao_retrasados'] > 0) & (df_creditos['Nro_prestao_retrasados'] <= 2), 'RetrasosEncoded'] = 1\n",
    "df_creditos.loc[(df_creditos['Nro_prestao_retrasados'] > 2) & (df_creditos['Nro_prestao_retrasados'] <= 5), 'RetrasosEncoded'] = 2\n",
    "df_creditos.loc[(df_creditos['Nro_prestao_retrasados'] > 5) & (df_creditos['Nro_prestao_retrasados'] <= 8), 'RetrasosEncoded'] = 3\n",
    "df_creditos.loc[(df_creditos['Nro_prestao_retrasados'] > 8) & (df_creditos['Nro_prestao_retrasados'] <= 13), 'RetrasosEncoded'] = 4\n",
    "df_creditos.loc[ df_creditos['Nro_prestao_retrasados'] > 13, 'RetrasosEncoded'] = 5\n",
    "\n",
    "# MAPPING 'Nro_prod_financieros_deuda' DE LOS CLIENTES\n",
    "df_creditos.loc[ df_creditos['Nro_prod_financieros_deuda'] <= 0, 'FinancierosEncoded'] = 0\n",
    "df_creditos.loc[(df_creditos['Nro_prod_financieros_deuda'] > 0) & (df_creditos['Nro_prod_financieros_deuda'] <= 15), 'FinancierosEncoded'] = 1\n",
    "df_creditos.loc[(df_creditos['Nro_prod_financieros_deuda'] > 15) & (df_creditos['Nro_prod_financieros_deuda'] <= 25), 'FinancierosEncoded'] = 2\n",
    "df_creditos.loc[(df_creditos['Nro_prod_financieros_deuda'] > 25) & (df_creditos['Nro_prod_financieros_deuda'] <= 35), 'FinancierosEncoded'] = 3\n",
    "df_creditos.loc[(df_creditos['Nro_prod_financieros_deuda'] > 35) & (df_creditos['Nro_prod_financieros_deuda'] <= 45), 'FinancierosEncoded'] = 4\n",
    "df_creditos.loc[ df_creditos['Nro_prod_financieros_deuda'] > 45, 'FinancierosEncoded'] = 5\n",
    "\n",
    "# MAPPING 'Nro_retraso_60dias' DE LOS CLIENTES\n",
    "df_creditos.loc[ df_creditos['Nro_retraso_60dias'] <= 0, '60Enconded'] = 0\n",
    "df_creditos.loc[(df_creditos['Nro_retraso_60dias'] > 0) & (df_creditos['Nro_retraso_60dias'] <= 3), '60Enconded'] = 1\n",
    "df_creditos.loc[(df_creditos['Nro_retraso_60dias'] > 3) & (df_creditos['Nro_retraso_60dias'] <= 7), '60Enconded'] = 2\n",
    "df_creditos.loc[(df_creditos['Nro_retraso_60dias'] > 7) & (df_creditos['Nro_retraso_60dias'] <= 12), '60Enconded'] = 3\n",
    "df_creditos.loc[(df_creditos['Nro_retraso_60dias'] > 12) & (df_creditos['Nro_retraso_60dias'] <= 15), '60Enconded'] = 4\n",
    "df_creditos.loc[ df_creditos['Nro_retraso_60dias'] > 15, '60Enconded'] = 5\n",
    "\n",
    "# MAPPING 'Nro_creditos_hipotecarios' DE LOS CLIENTES\n",
    "df_creditos.loc[ df_creditos['Nro_creditos_hipotecarios'] <= 0, 'HipEnconded'] = 0\n",
    "df_creditos.loc[(df_creditos['Nro_creditos_hipotecarios'] > 0) & (df_creditos['Nro_creditos_hipotecarios'] <= 3), 'HipEnconded'] = 1\n",
    "df_creditos.loc[(df_creditos['Nro_creditos_hipotecarios'] > 3) & (df_creditos['Nro_creditos_hipotecarios'] <= 7), 'HipEnconded'] = 2\n",
    "df_creditos.loc[(df_creditos['Nro_creditos_hipotecarios'] > 7) & (df_creditos['Nro_creditos_hipotecarios'] <= 15), 'HipEnconded'] = 3\n",
    "df_creditos.loc[(df_creditos['Nro_creditos_hipotecarios'] > 15) & (df_creditos['Nro_creditos_hipotecarios'] <= 25), 'HipEnconded'] = 4\n",
    "df_creditos.loc[ df_creditos['Nro_creditos_hipotecarios'] > 25, 'HipEnconded'] = 5\n",
    "\n",
    "# MAPPING 'Nro_dependiente' DE LOS CLIENTES\n",
    "df_creditos.loc[ df_creditos['Nro_dependiente'] <= 0, 'DepEncoded'] = 0\n",
    "df_creditos.loc[(df_creditos['Nro_dependiente'] > 0) & (df_creditos['Nro_dependiente'] <= 2), 'DepEncoded'] = 1\n",
    "df_creditos.loc[(df_creditos['Nro_dependiente'] > 2) & (df_creditos['Nro_dependiente'] <= 5), 'DepEncoded'] = 2\n",
    "df_creditos.loc[(df_creditos['Nro_dependiente'] > 5) & (df_creditos['Nro_dependiente'] <= 10), 'DepEncoded'] = 3\n",
    "df_creditos.loc[(df_creditos['Nro_dependiente'] > 10) & (df_creditos['Nro_dependiente'] <= 13), 'DepEncoded'] = 4\n",
    "df_creditos.loc[ df_creditos['Nro_dependiente'] > 13, 'DepEncoded'] = 5\n",
    "\n",
    "# MAPPING 'Prct_uso_tc' DE LOS CLIENTES\n",
    "df_creditos.loc[ df_creditos['Prct_uso_tc'] <= 0.1, 'TCEncoded'] = 0\n",
    "df_creditos.loc[(df_creditos['Prct_uso_tc'] > 0.1) & (df_creditos['Prct_uso_tc'] <= 0.5), 'TCEncoded'] = 1\n",
    "df_creditos.loc[(df_creditos['Prct_uso_tc'] > 0.5) & (df_creditos['Prct_uso_tc'] <= 1.0), 'TCEncoded'] = 2\n",
    "df_creditos.loc[(df_creditos['Prct_uso_tc'] > 1.0) & (df_creditos['Prct_uso_tc'] <= 1.5), 'TCEncoded'] = 3\n",
    "df_creditos.loc[(df_creditos['Prct_uso_tc'] > 1.5) & (df_creditos['Prct_uso_tc'] <= 2.0), 'TCEncoded'] = 4\n",
    "df_creditos.loc[ df_creditos['Prct_uso_tc'] > 2.0, 'TCEncoded'] = 5\n",
    "\n",
    "# MAPPING 'Prct_deuda_vs_ingresos' DE LOS CLIENTES\n",
    "df_creditos.loc[ df_creditos['Prct_deuda_vs_ingresos'] <= 0.1, 'DeuInEncoded'] = 0\n",
    "df_creditos.loc[(df_creditos['Prct_deuda_vs_ingresos'] > 0.1) & (df_creditos['Prct_deuda_vs_ingresos'] <= 0.5), 'DeuInEncoded'] = 1\n",
    "df_creditos.loc[(df_creditos['Prct_deuda_vs_ingresos'] > 0.5) & (df_creditos['Prct_deuda_vs_ingresos'] <= 1.0), 'DeuInEncoded'] = 2\n",
    "df_creditos.loc[(df_creditos['Prct_deuda_vs_ingresos'] > 1.0) & (df_creditos['Prct_deuda_vs_ingresos'] <= 1.5), 'DeuInEncoded'] = 3\n",
    "df_creditos.loc[(df_creditos['Prct_deuda_vs_ingresos'] > 1.5) & (df_creditos['Prct_deuda_vs_ingresos'] <= 2.0), 'DeuInEncoded'] = 4\n",
    "df_creditos.loc[ df_creditos['Prct_deuda_vs_ingresos'] > 2.0, 'DeuInEncoded'] = 5\n",
    "\n",
    "# MAPPING 'Mto_ingreso_mensual' DE LOS CLIENTES\n",
    "df_creditos.loc[ df_creditos['Mto_ingreso_mensual'] <= 1000, 'IngresoEncoded'] = 0\n",
    "df_creditos.loc[(df_creditos['Mto_ingreso_mensual'] > 1000) & (df_creditos['Mto_ingreso_mensual'] <= 3000), 'IngresoEncoded'] = 1\n",
    "df_creditos.loc[(df_creditos['Mto_ingreso_mensual'] > 3000) & (df_creditos['Mto_ingreso_mensual'] <= 5000), 'IngresoEncoded'] = 2\n",
    "df_creditos.loc[(df_creditos['Mto_ingreso_mensual'] > 5000) & (df_creditos['Mto_ingreso_mensual'] <= 8000), 'IngresoEncoded'] = 3\n",
    "df_creditos.loc[(df_creditos['Mto_ingreso_mensual'] > 8000) & (df_creditos['Mto_ingreso_mensual'] <= 14000), 'IngresoEncoded'] = 4\n",
    "df_creditos.loc[ df_creditos['Mto_ingreso_mensual'] > 14000, 'IngresoEncoded'] = 5\n",
    "\n",
    "# MAPPING 'Nro_retraso_ultm3anios' DE LOS CLIENTES\n",
    "df_creditos.loc[ df_creditos['Nro_retraso_ultm3anios'] <= 0, 'UltiEncoded'] = 0\n",
    "df_creditos.loc[(df_creditos['Nro_retraso_ultm3anios'] > 0) & (df_creditos['Nro_retraso_ultm3anios'] <= 2), 'UltiEncoded'] = 1\n",
    "df_creditos.loc[(df_creditos['Nro_retraso_ultm3anios'] > 2) & (df_creditos['Nro_retraso_ultm3anios'] <= 5), 'UltiEncoded'] = 2\n",
    "df_creditos.loc[(df_creditos['Nro_retraso_ultm3anios'] > 5) & (df_creditos['Nro_retraso_ultm3anios'] <= 8), 'UltiEncoded'] = 3\n",
    "df_creditos.loc[(df_creditos['Nro_retraso_ultm3anios'] > 8) & (df_creditos['Nro_retraso_ultm3anios'] <= 11), 'UltiEncoded'] = 4\n",
    "df_creditos.loc[ df_creditos['Nro_retraso_ultm3anios'] > 11, 'UltiEncoded'] = 5\n",
    "\n",
    "#ELIMINAR LOS CAMPOS Y REEMPLAZAR POR LOS RANGOS DEFINIDOS\n",
    "drop_elements = ['Nro_prestao_retrasados', 'Nro_retraso_60dias', 'Nro_retraso_ultm3anios', 'Edad','Mto_ingreso_mensual','Nro_prod_financieros_deuda','Nro_creditos_hipotecarios','Nro_dependiente','Prct_uso_tc','Prct_deuda_vs_ingresos']\n",
    "creditos_encoded = df_creditos.drop(drop_elements, axis = 1)"
   ]
  },
  {
   "cell_type": "code",
   "execution_count": 154,
   "metadata": {},
   "outputs": [],
   "source": [
    "creditos_encoded.to_csv(\"../data/processed/creditos_test.csv\") "
   ]
  },
  {
   "cell_type": "markdown",
   "metadata": {
    "id": "PVudNnnPh7zn"
   },
   "source": [
    "### Script 4: Código de Validación"
   ]
  },
  {
   "cell_type": "code",
   "execution_count": 155,
   "metadata": {},
   "outputs": [],
   "source": [
    "import pandas as pd\n",
    "import xgboost as xgb\n",
    "import pickle\n",
    "import matplotlib.pyplot as plt\n",
    "from sklearn.ensemble import RandomForestClassifier"
   ]
  },
  {
   "cell_type": "code",
   "execution_count": 156,
   "metadata": {},
   "outputs": [],
   "source": [
    "# Cargar la tabla transformada\n",
    "df = pd.read_csv(\"../data/processed/creditos_test.csv\")\n",
    "X_test = df.drop(['Default'],axis=1)\n",
    "y_test = df[['Default']]"
   ]
  },
  {
   "cell_type": "code",
   "execution_count": 157,
   "metadata": {},
   "outputs": [],
   "source": [
    "# Leemos el modelo entrenado!\n",
    "filename = '../models/best_model.pkl'\n",
    "model = pickle.load(open(filename, 'rb'))"
   ]
  },
  {
   "cell_type": "code",
   "execution_count": 107,
   "metadata": {},
   "outputs": [
    {
     "ename": "ValueError",
     "evalue": "The feature names should match those that were passed during fit.\nFeature names unseen at fit time:\n- ID\n",
     "output_type": "error",
     "traceback": [
      "\u001b[0;31m---------------------------------------------------------------------------\u001b[0m",
      "\u001b[0;31mValueError\u001b[0m                                Traceback (most recent call last)",
      "Cell \u001b[0;32mIn[107], line 2\u001b[0m\n\u001b[1;32m      1\u001b[0m \u001b[38;5;66;03m# Predecimos sobre el set de datos de implementacion con el modelo entrenado\u001b[39;00m\n\u001b[0;32m----> 2\u001b[0m y_pred_test\u001b[38;5;241m=\u001b[39m\u001b[43mmodel\u001b[49m\u001b[38;5;241;43m.\u001b[39;49m\u001b[43mpredict\u001b[49m\u001b[43m(\u001b[49m\u001b[43mdf\u001b[49m\u001b[38;5;241;43m.\u001b[39;49m\u001b[43mdrop\u001b[49m\u001b[43m(\u001b[49m\u001b[43m[\u001b[49m\u001b[38;5;124;43m'\u001b[39;49m\u001b[38;5;124;43mDefault\u001b[39;49m\u001b[38;5;124;43m'\u001b[39;49m\u001b[43m]\u001b[49m\u001b[43m,\u001b[49m\u001b[43maxis\u001b[49m\u001b[38;5;241;43m=\u001b[39;49m\u001b[38;5;241;43m1\u001b[39;49m\u001b[43m)\u001b[49m\u001b[43m)\u001b[49m \n",
      "File \u001b[0;32m/opt/conda/lib/python3.11/site-packages/sklearn/ensemble/_forest.py:823\u001b[0m, in \u001b[0;36mForestClassifier.predict\u001b[0;34m(self, X)\u001b[0m\n\u001b[1;32m    802\u001b[0m \u001b[38;5;28;01mdef\u001b[39;00m \u001b[38;5;21mpredict\u001b[39m(\u001b[38;5;28mself\u001b[39m, X):\n\u001b[1;32m    803\u001b[0m \u001b[38;5;250m    \u001b[39m\u001b[38;5;124;03m\"\"\"\u001b[39;00m\n\u001b[1;32m    804\u001b[0m \u001b[38;5;124;03m    Predict class for X.\u001b[39;00m\n\u001b[1;32m    805\u001b[0m \n\u001b[0;32m   (...)\u001b[0m\n\u001b[1;32m    821\u001b[0m \u001b[38;5;124;03m        The predicted classes.\u001b[39;00m\n\u001b[1;32m    822\u001b[0m \u001b[38;5;124;03m    \"\"\"\u001b[39;00m\n\u001b[0;32m--> 823\u001b[0m     proba \u001b[38;5;241m=\u001b[39m \u001b[38;5;28;43mself\u001b[39;49m\u001b[38;5;241;43m.\u001b[39;49m\u001b[43mpredict_proba\u001b[49m\u001b[43m(\u001b[49m\u001b[43mX\u001b[49m\u001b[43m)\u001b[49m\n\u001b[1;32m    825\u001b[0m     \u001b[38;5;28;01mif\u001b[39;00m \u001b[38;5;28mself\u001b[39m\u001b[38;5;241m.\u001b[39mn_outputs_ \u001b[38;5;241m==\u001b[39m \u001b[38;5;241m1\u001b[39m:\n\u001b[1;32m    826\u001b[0m         \u001b[38;5;28;01mreturn\u001b[39;00m \u001b[38;5;28mself\u001b[39m\u001b[38;5;241m.\u001b[39mclasses_\u001b[38;5;241m.\u001b[39mtake(np\u001b[38;5;241m.\u001b[39margmax(proba, axis\u001b[38;5;241m=\u001b[39m\u001b[38;5;241m1\u001b[39m), axis\u001b[38;5;241m=\u001b[39m\u001b[38;5;241m0\u001b[39m)\n",
      "File \u001b[0;32m/opt/conda/lib/python3.11/site-packages/sklearn/ensemble/_forest.py:865\u001b[0m, in \u001b[0;36mForestClassifier.predict_proba\u001b[0;34m(self, X)\u001b[0m\n\u001b[1;32m    863\u001b[0m check_is_fitted(\u001b[38;5;28mself\u001b[39m)\n\u001b[1;32m    864\u001b[0m \u001b[38;5;66;03m# Check data\u001b[39;00m\n\u001b[0;32m--> 865\u001b[0m X \u001b[38;5;241m=\u001b[39m \u001b[38;5;28;43mself\u001b[39;49m\u001b[38;5;241;43m.\u001b[39;49m\u001b[43m_validate_X_predict\u001b[49m\u001b[43m(\u001b[49m\u001b[43mX\u001b[49m\u001b[43m)\u001b[49m\n\u001b[1;32m    867\u001b[0m \u001b[38;5;66;03m# Assign chunk of trees to jobs\u001b[39;00m\n\u001b[1;32m    868\u001b[0m n_jobs, _, _ \u001b[38;5;241m=\u001b[39m _partition_estimators(\u001b[38;5;28mself\u001b[39m\u001b[38;5;241m.\u001b[39mn_estimators, \u001b[38;5;28mself\u001b[39m\u001b[38;5;241m.\u001b[39mn_jobs)\n",
      "File \u001b[0;32m/opt/conda/lib/python3.11/site-packages/sklearn/ensemble/_forest.py:599\u001b[0m, in \u001b[0;36mBaseForest._validate_X_predict\u001b[0;34m(self, X)\u001b[0m\n\u001b[1;32m    596\u001b[0m \u001b[38;5;250m\u001b[39m\u001b[38;5;124;03m\"\"\"\u001b[39;00m\n\u001b[1;32m    597\u001b[0m \u001b[38;5;124;03mValidate X whenever one tries to predict, apply, predict_proba.\"\"\"\u001b[39;00m\n\u001b[1;32m    598\u001b[0m check_is_fitted(\u001b[38;5;28mself\u001b[39m)\n\u001b[0;32m--> 599\u001b[0m X \u001b[38;5;241m=\u001b[39m \u001b[38;5;28;43mself\u001b[39;49m\u001b[38;5;241;43m.\u001b[39;49m\u001b[43m_validate_data\u001b[49m\u001b[43m(\u001b[49m\u001b[43mX\u001b[49m\u001b[43m,\u001b[49m\u001b[43m \u001b[49m\u001b[43mdtype\u001b[49m\u001b[38;5;241;43m=\u001b[39;49m\u001b[43mDTYPE\u001b[49m\u001b[43m,\u001b[49m\u001b[43m \u001b[49m\u001b[43maccept_sparse\u001b[49m\u001b[38;5;241;43m=\u001b[39;49m\u001b[38;5;124;43m\"\u001b[39;49m\u001b[38;5;124;43mcsr\u001b[39;49m\u001b[38;5;124;43m\"\u001b[39;49m\u001b[43m,\u001b[49m\u001b[43m \u001b[49m\u001b[43mreset\u001b[49m\u001b[38;5;241;43m=\u001b[39;49m\u001b[38;5;28;43;01mFalse\u001b[39;49;00m\u001b[43m)\u001b[49m\n\u001b[1;32m    600\u001b[0m \u001b[38;5;28;01mif\u001b[39;00m issparse(X) \u001b[38;5;129;01mand\u001b[39;00m (X\u001b[38;5;241m.\u001b[39mindices\u001b[38;5;241m.\u001b[39mdtype \u001b[38;5;241m!=\u001b[39m np\u001b[38;5;241m.\u001b[39mintc \u001b[38;5;129;01mor\u001b[39;00m X\u001b[38;5;241m.\u001b[39mindptr\u001b[38;5;241m.\u001b[39mdtype \u001b[38;5;241m!=\u001b[39m np\u001b[38;5;241m.\u001b[39mintc):\n\u001b[1;32m    601\u001b[0m     \u001b[38;5;28;01mraise\u001b[39;00m \u001b[38;5;167;01mValueError\u001b[39;00m(\u001b[38;5;124m\"\u001b[39m\u001b[38;5;124mNo support for np.int64 index based sparse matrices\u001b[39m\u001b[38;5;124m\"\u001b[39m)\n",
      "File \u001b[0;32m/opt/conda/lib/python3.11/site-packages/sklearn/base.py:580\u001b[0m, in \u001b[0;36mBaseEstimator._validate_data\u001b[0;34m(self, X, y, reset, validate_separately, cast_to_ndarray, **check_params)\u001b[0m\n\u001b[1;32m    509\u001b[0m \u001b[38;5;28;01mdef\u001b[39;00m \u001b[38;5;21m_validate_data\u001b[39m(\n\u001b[1;32m    510\u001b[0m     \u001b[38;5;28mself\u001b[39m,\n\u001b[1;32m    511\u001b[0m     X\u001b[38;5;241m=\u001b[39m\u001b[38;5;124m\"\u001b[39m\u001b[38;5;124mno_validation\u001b[39m\u001b[38;5;124m\"\u001b[39m,\n\u001b[0;32m   (...)\u001b[0m\n\u001b[1;32m    516\u001b[0m     \u001b[38;5;241m*\u001b[39m\u001b[38;5;241m*\u001b[39mcheck_params,\n\u001b[1;32m    517\u001b[0m ):\n\u001b[1;32m    518\u001b[0m \u001b[38;5;250m    \u001b[39m\u001b[38;5;124;03m\"\"\"Validate input data and set or check the `n_features_in_` attribute.\u001b[39;00m\n\u001b[1;32m    519\u001b[0m \n\u001b[1;32m    520\u001b[0m \u001b[38;5;124;03m    Parameters\u001b[39;00m\n\u001b[0;32m   (...)\u001b[0m\n\u001b[1;32m    578\u001b[0m \u001b[38;5;124;03m        validated.\u001b[39;00m\n\u001b[1;32m    579\u001b[0m \u001b[38;5;124;03m    \"\"\"\u001b[39;00m\n\u001b[0;32m--> 580\u001b[0m     \u001b[38;5;28;43mself\u001b[39;49m\u001b[38;5;241;43m.\u001b[39;49m\u001b[43m_check_feature_names\u001b[49m\u001b[43m(\u001b[49m\u001b[43mX\u001b[49m\u001b[43m,\u001b[49m\u001b[43m \u001b[49m\u001b[43mreset\u001b[49m\u001b[38;5;241;43m=\u001b[39;49m\u001b[43mreset\u001b[49m\u001b[43m)\u001b[49m\n\u001b[1;32m    582\u001b[0m     \u001b[38;5;28;01mif\u001b[39;00m y \u001b[38;5;129;01mis\u001b[39;00m \u001b[38;5;28;01mNone\u001b[39;00m \u001b[38;5;129;01mand\u001b[39;00m \u001b[38;5;28mself\u001b[39m\u001b[38;5;241m.\u001b[39m_get_tags()[\u001b[38;5;124m\"\u001b[39m\u001b[38;5;124mrequires_y\u001b[39m\u001b[38;5;124m\"\u001b[39m]:\n\u001b[1;32m    583\u001b[0m         \u001b[38;5;28;01mraise\u001b[39;00m \u001b[38;5;167;01mValueError\u001b[39;00m(\n\u001b[1;32m    584\u001b[0m             \u001b[38;5;124mf\u001b[39m\u001b[38;5;124m\"\u001b[39m\u001b[38;5;124mThis \u001b[39m\u001b[38;5;132;01m{\u001b[39;00m\u001b[38;5;28mself\u001b[39m\u001b[38;5;241m.\u001b[39m\u001b[38;5;18m__class__\u001b[39m\u001b[38;5;241m.\u001b[39m\u001b[38;5;18m__name__\u001b[39m\u001b[38;5;132;01m}\u001b[39;00m\u001b[38;5;124m estimator \u001b[39m\u001b[38;5;124m\"\u001b[39m\n\u001b[1;32m    585\u001b[0m             \u001b[38;5;124m\"\u001b[39m\u001b[38;5;124mrequires y to be passed, but the target y is None.\u001b[39m\u001b[38;5;124m\"\u001b[39m\n\u001b[1;32m    586\u001b[0m         )\n",
      "File \u001b[0;32m/opt/conda/lib/python3.11/site-packages/sklearn/base.py:507\u001b[0m, in \u001b[0;36mBaseEstimator._check_feature_names\u001b[0;34m(self, X, reset)\u001b[0m\n\u001b[1;32m    502\u001b[0m \u001b[38;5;28;01mif\u001b[39;00m \u001b[38;5;129;01mnot\u001b[39;00m missing_names \u001b[38;5;129;01mand\u001b[39;00m \u001b[38;5;129;01mnot\u001b[39;00m unexpected_names:\n\u001b[1;32m    503\u001b[0m     message \u001b[38;5;241m+\u001b[39m\u001b[38;5;241m=\u001b[39m (\n\u001b[1;32m    504\u001b[0m         \u001b[38;5;124m\"\u001b[39m\u001b[38;5;124mFeature names must be in the same order as they were in fit.\u001b[39m\u001b[38;5;130;01m\\n\u001b[39;00m\u001b[38;5;124m\"\u001b[39m\n\u001b[1;32m    505\u001b[0m     )\n\u001b[0;32m--> 507\u001b[0m \u001b[38;5;28;01mraise\u001b[39;00m \u001b[38;5;167;01mValueError\u001b[39;00m(message)\n",
      "\u001b[0;31mValueError\u001b[0m: The feature names should match those that were passed during fit.\nFeature names unseen at fit time:\n- ID\n"
     ]
    }
   ],
   "source": [
    "# Predecimos sobre el set de datos de implementacion con el modelo entrenado\n",
    "y_pred_test=model.predict(df.drop(['Default'],axis=1)) "
   ]
  },
  {
   "cell_type": "code",
   "execution_count": 90,
   "metadata": {},
   "outputs": [],
   "source": [
    "## Metricas de validación\n",
    "def calc_metrics(y_test,y_pred_test):\n",
    "    cm_test = confusion_matrix(y_test,y_pred_test)\n",
    "    print(\"Matriz de confusion: \")\n",
    "    print(cm_test)\n",
    "    accuracy_test=accuracy_score(y_test,y_pred_test)\n",
    "    print(\"Accuracy: \", accuracy_test)\n",
    "    precision_test=precision_score(y_test,y_pred_test)\n",
    "    print(\"Precision: \", precision_test)\n",
    "    recall_test=recall_score(y_test,y_pred_test)\n",
    "    print(\"Recall: \", recall_test)"
   ]
  },
  {
   "cell_type": "code",
   "execution_count": 91,
   "metadata": {},
   "outputs": [],
   "source": [
    "def save_plot(title):\n",
    "    plt.title(title)\n",
    "    fig = plt.gcf()\n",
    "    filename = title.replace(\" \", \"_\").lower()\n",
    "    fig.savefig('{}'.format(filename), dpi=500)\n",
    "    plt.clf()"
   ]
  },
  {
   "cell_type": "code",
   "execution_count": 92,
   "metadata": {},
   "outputs": [
    {
     "ename": "NameError",
     "evalue": "name 'plot_confusion_matrix' is not defined",
     "output_type": "error",
     "traceback": [
      "\u001b[0;31m---------------------------------------------------------------------------\u001b[0m",
      "\u001b[0;31mNameError\u001b[0m                                 Traceback (most recent call last)",
      "Cell \u001b[0;32mIn[92], line 1\u001b[0m\n\u001b[0;32m----> 1\u001b[0m \u001b[43mplot_confusion_matrix\u001b[49m(model, X_test, y_test)\n\u001b[1;32m      2\u001b[0m save_plot(\u001b[38;5;124m'\u001b[39m\u001b[38;5;124mConfusion Matrix\u001b[39m\u001b[38;5;124m'\u001b[39m)\n",
      "\u001b[0;31mNameError\u001b[0m: name 'plot_confusion_matrix' is not defined"
     ]
    }
   ],
   "source": [
    "plot_confusion_matrix(model, X_test, y_test)\n",
    "save_plot('Confusion Matrix')"
   ]
  },
  {
   "cell_type": "code",
   "execution_count": null,
   "metadata": {},
   "outputs": [],
   "source": [
    "plot_roc_curve(model, X_test, y_test)\n",
    "save_plot('ROC Curve')"
   ]
  },
  {
   "cell_type": "code",
   "execution_count": 108,
   "metadata": {},
   "outputs": [],
   "source": [
    "###Script 5: Preparación de Datos de Score (Automatización)¶"
   ]
  },
  {
   "cell_type": "code",
   "execution_count": null,
   "metadata": {},
   "outputs": [],
   "source": [
    "import numpy as np\n",
    "import pandas as pd"
   ]
  },
  {
   "cell_type": "code",
   "execution_count": null,
   "metadata": {},
   "outputs": [],
   "source": [
    "# Leemos la tabla de entrenamiento\n",
    "df = pd.read_csv(\"../data/raw/defaultcc_score.csv\").set_index('ID')"
   ]
  },
  {
   "cell_type": "code",
   "execution_count": 109,
   "metadata": {},
   "outputs": [],
   "source": [
    "### Scipt 6: Código de Scoring (Automatización)"
   ]
  },
  {
   "cell_type": "code",
   "execution_count": null,
   "metadata": {},
   "outputs": [],
   "source": []
  }
 ],
 "metadata": {
  "colab": {
   "collapsed_sections": [
    "HAtGhiDp7dIX",
    "24chAUOv40Or",
    "xek5TgX-AgGJ",
    "m5TOURQGAtbN",
    "yWPzKCbPUIFQ",
    "og3W-OPuo6R2",
    "LbpCTTohboyr",
    "rhRkPDbqbkwz",
    "FdyLGYtJIeMx",
    "PVudNnnPh7zn",
    "L0n79aWWjjDC",
    "wHBcr0-g6G00"
   ],
   "provenance": []
  },
  "kernelspec": {
   "display_name": "Python 3 (ipykernel)",
   "language": "python",
   "name": "python3"
  },
  "language_info": {
   "codemirror_mode": {
    "name": "ipython",
    "version": 3
   },
   "file_extension": ".py",
   "mimetype": "text/x-python",
   "name": "python",
   "nbconvert_exporter": "python",
   "pygments_lexer": "ipython3",
   "version": "3.11.6"
  }
 },
 "nbformat": 4,
 "nbformat_minor": 4
}
